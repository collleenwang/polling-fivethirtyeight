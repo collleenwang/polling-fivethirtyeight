{
 "cells": [
  {
   "cell_type": "code",
   "execution_count": 5,
   "metadata": {},
   "outputs": [],
   "source": [
    "# Inline Chart Parameters\n",
    "%matplotlib inline  \n",
    "from matplotlib import rcParams\n",
    "rcParams['figure.figsize'] = (16, 100)\n",
    "\n",
    "# Ignore warnings, because why not... (this is probably bad)\n",
    "import warnings\n",
    "warnings.filterwarnings('ignore')\n",
    "\n",
    "# R imports\n",
    "%load_ext rpy2.ipython\n",
    "\n",
    "# Python Imports\n",
    "import pandas as pd\n",
    "import numpy as np\n",
    "import matplotlib.pyplot as plt\n",
    "from datetime import datetime, timedelta\n",
    "import us"
   ]
  },
  {
   "cell_type": "code",
   "execution_count": 6,
   "metadata": {},
   "outputs": [
    {
     "name": "stderr",
     "output_type": "stream",
     "text": [
      "UsageError: Cell magic `%%R` not found.\n"
     ]
    }
   ],
   "source": [
    "%%R\n",
    "\n",
    "smartRequire <- function(pkg) {\n",
    "  if (!require(pkg, character.only = T)) { install.packages(pkg, repos='http://cran.us.r-project.org') }\n",
    "  require(pkg, character.only = T)\n",
    "}\n",
    "\n",
    "libs <- c(\"ggplot2\", \"readr\", \"gridExtra\")\n",
    "lapply(libs, smartRequire)\n",
    "sprintf(\"Successfully loaded: %s\", libs)"
   ]
  },
  {
   "cell_type": "code",
   "execution_count": null,
   "metadata": {},
   "outputs": [],
   "source": []
  }
 ],
 "metadata": {
  "kernelspec": {
   "display_name": "Python 3",
   "language": "python",
   "name": "python3"
  },
  "language_info": {
   "codemirror_mode": {
    "name": "ipython",
    "version": 3
   },
   "file_extension": ".py",
   "mimetype": "text/x-python",
   "name": "python",
   "nbconvert_exporter": "python",
   "pygments_lexer": "ipython3",
   "version": "3.6.5"
  }
 },
 "nbformat": 4,
 "nbformat_minor": 2
}
